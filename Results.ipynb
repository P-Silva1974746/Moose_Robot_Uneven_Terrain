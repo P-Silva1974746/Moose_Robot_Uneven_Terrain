{
  "cells": [
    {
      "cell_type": "code",
      "execution_count": 24,
      "id": "15607cdc",
      "metadata": {
        "id": "15607cdc"
      },
      "outputs": [],
      "source": [
        "import pandas as pd"
      ]
    },
    {
      "cell_type": "markdown",
      "id": "73e4d19d",
      "metadata": {
        "id": "73e4d19d"
      },
      "source": [
        "Greedy"
      ]
    },
    {
      "cell_type": "code",
      "execution_count": 25,
      "id": "95e10a6b",
      "metadata": {
        "id": "95e10a6b",
        "outputId": "3d1198b3-aa66-41fe-aa88-71e0be4d65cf"
      },
      "outputs": [
        {
          "name": "stdout",
          "output_type": "stream",
          "text": [
            "   Distance  Distance traveled    Time  Avg Speed   Result\n",
            "0     88.08              90.89  120.58       1.14  Success\n",
            "1     39.36              41.40   56.78       1.36  Success\n",
            "2    148.35             160.47  153.36       1.06  Success\n",
            "3    121.34             125.18  130.37       1.41  Success\n",
            "4    133.20             139.18  156.91       1.06  Success\n",
            "Result\n",
            "Success    80\n",
            "Failure    20\n",
            "Name: count, dtype: int64\n"
          ]
        }
      ],
      "source": [
        "with open(\"controllers/moose_greedy/results/greedy_performance.csv\", \"r\") as f:\n",
        "    lines = f.read().splitlines()\n",
        "\n",
        "rows = [line.strip('\"').split(',') for line in lines]\n",
        "columns = rows[0]\n",
        "data = rows[1:]\n",
        "\n",
        "import pandas as pd\n",
        "greedy = pd.DataFrame(data, columns=columns)\n",
        "\n",
        "# Converta os dados numéricos\n",
        "for col in [\"Distance\", \"Distance traveled\", \"Time\", \"Avg Speed\"]:\n",
        "    greedy[col] = pd.to_numeric(greedy[col], errors='coerce')\n",
        "\n",
        "print(greedy.head())\n",
        "print(greedy[\"Result\"].value_counts())\n"
      ]
    },
    {
      "cell_type": "code",
      "execution_count": 26,
      "id": "033126ab",
      "metadata": {
        "id": "033126ab",
        "outputId": "7b00d877-6578-45f5-f806-fafb4e31c373"
      },
      "outputs": [
        {
          "name": "stdout",
          "output_type": "stream",
          "text": [
            "Taxa de sucesso: 80.00%\n"
          ]
        }
      ],
      "source": [
        "success_rate = (greedy[\"Result\"] == \"Success\").mean()\n",
        "print(f\"Taxa de sucesso: {success_rate:.2%}\")\n"
      ]
    },
    {
      "cell_type": "code",
      "execution_count": 27,
      "id": "d4035925",
      "metadata": {
        "id": "d4035925",
        "outputId": "edd70fc7-2b83-4e43-8144-1505abae7c26"
      },
      "outputs": [
        {
          "name": "stdout",
          "output_type": "stream",
          "text": [
            "Tempo médio: 117.41 segundos\n"
          ]
        }
      ],
      "source": [
        "avg_time = greedy[\"Time\"].mean()\n",
        "print(f\"Tempo médio: {avg_time:.2f} segundos\")"
      ]
    },
    {
      "cell_type": "code",
      "execution_count": 28,
      "id": "1ab672e0",
      "metadata": {
        "id": "1ab672e0",
        "outputId": "8f26fca8-9b6e-472f-e1ff-429fe25311db"
      },
      "outputs": [
        {
          "name": "stdout",
          "output_type": "stream",
          "text": [
            "Desvio médio (Distância percorrida - planejada):\n",
            "count    100.00000\n",
            "mean      -0.96450\n",
            "std       20.49203\n",
            "min      -76.45000\n",
            "25%        0.95500\n",
            "50%        3.90000\n",
            "75%        8.75250\n",
            "max       37.00000\n",
            "Name: Desvio, dtype: float64\n"
          ]
        }
      ],
      "source": [
        "greedy[\"Desvio\"] = greedy[\"Distance traveled\"] - greedy[\"Distance\"]\n",
        "print(\"Desvio médio (Distância percorrida - planejada):\")\n",
        "print(greedy[\"Desvio\"].describe())"
      ]
    },
    {
      "cell_type": "code",
      "execution_count": 29,
      "id": "f9b69fd4",
      "metadata": {
        "id": "f9b69fd4",
        "outputId": "d30a32ca-2159-4b91-c192-55feb40b9a24"
      },
      "outputs": [
        {
          "name": "stdout",
          "output_type": "stream",
          "text": [
            "Velocidade média: 1.01 m/s\n"
          ]
        }
      ],
      "source": [
        "avg_speed = greedy[\"Avg Speed\"].mean()\n",
        "print(f\"Velocidade média: {avg_speed:.2f} m/s\")\n"
      ]
    },
    {
      "cell_type": "code",
      "execution_count": 30,
      "id": "c8b0d06e",
      "metadata": {
        "id": "c8b0d06e",
        "outputId": "0278ae0e-4e90-49f4-e539-db23ac59ff57"
      },
      "outputs": [
        {
          "name": "stdout",
          "output_type": "stream",
          "text": [
            "Comparação entre Resultados:\n",
            "             Time            Distance traveled            Avg Speed            \\\n",
            "             mean        std              mean        std      mean       std   \n",
            "Result                                                                          \n",
            "Failure   78.5380  68.463487          45.27450  39.502238  0.819000  0.149275   \n",
            "Success  127.1335  59.401562          96.71825  54.999510  1.059125  0.237093   \n",
            "\n",
            "           Desvio             \n",
            "             mean        std  \n",
            "Result                        \n",
            "Failure -32.80350  25.267935  \n",
            "Success   6.99525   7.202722  \n"
          ]
        }
      ],
      "source": [
        "grouped = greedy.groupby(\"Result\").agg({\n",
        "    \"Time\": [\"mean\", \"std\"],\n",
        "    \"Distance traveled\": [\"mean\", \"std\"],\n",
        "    \"Avg Speed\": [\"mean\", \"std\"],\n",
        "    \"Desvio\": [\"mean\", \"std\"]\n",
        "})\n",
        "print(\"Comparação entre Resultados:\")\n",
        "print(grouped)"
      ]
    },
    {
      "cell_type": "code",
      "execution_count": 31,
      "id": "c4fa8c28",
      "metadata": {
        "id": "c4fa8c28",
        "outputId": "949a574b-09e8-4cea-d69f-692bdb0fb3af"
      },
      "outputs": [
        {
          "name": "stdout",
          "output_type": "stream",
          "text": [
            "Correlação entre tempo e distância percorrida: 0.90\n"
          ]
        }
      ],
      "source": [
        "corr = greedy[\"Time\"].corr(greedy[\"Distance traveled\"])\n",
        "print(f\"Correlação entre tempo e distância percorrida: {corr:.2f}\")\n"
      ]
    },
    {
      "cell_type": "code",
      "execution_count": 32,
      "id": "6d628db5",
      "metadata": {
        "id": "6d628db5",
        "outputId": "b32494a0-7233-4673-d939-5ff2226f1bd5"
      },
      "outputs": [
        {
          "name": "stdout",
          "output_type": "stream",
          "text": [
            "Eficiência média (sucesso): 96.55%\n"
          ]
        },
        {
          "name": "stderr",
          "output_type": "stream",
          "text": [
            "C:\\Users\\isabe\\AppData\\Local\\Temp\\ipykernel_4736\\179856094.py:2: SettingWithCopyWarning: \n",
            "A value is trying to be set on a copy of a slice from a DataFrame.\n",
            "Try using .loc[row_indexer,col_indexer] = value instead\n",
            "\n",
            "See the caveats in the documentation: https://pandas.pydata.org/pandas-docs/stable/user_guide/indexing.html#returning-a-view-versus-a-copy\n",
            "  sucessos['Efficiency (%)'] = (sucessos['Distance'] / sucessos['Distance traveled']) * 100\n"
          ]
        }
      ],
      "source": [
        "sucessos = greedy[greedy['Result'] == 'Success']\n",
        "sucessos['Efficiency (%)'] = (sucessos['Distance'] / sucessos['Distance traveled']) * 100\n",
        "eficiencia_media_sucesso = sucessos['Efficiency (%)'].mean()\n",
        "\n",
        "print(f\"Eficiência média (sucesso): {eficiencia_media_sucesso:.2f}%\")\n"
      ]
    },
    {
      "cell_type": "markdown",
      "id": "b406a858",
      "metadata": {
        "id": "b406a858"
      },
      "source": [
        "A*"
      ]
    },
    {
      "cell_type": "code",
      "execution_count": 33,
      "id": "ff1a5ad6",
      "metadata": {
        "id": "ff1a5ad6",
        "outputId": "c21909b7-4681-4b83-9729-126f413ff5c9"
      },
      "outputs": [
        {
          "data": {
            "text/html": [
              "<div>\n",
              "<style scoped>\n",
              "    .dataframe tbody tr th:only-of-type {\n",
              "        vertical-align: middle;\n",
              "    }\n",
              "\n",
              "    .dataframe tbody tr th {\n",
              "        vertical-align: top;\n",
              "    }\n",
              "\n",
              "    .dataframe thead th {\n",
              "        text-align: right;\n",
              "    }\n",
              "</style>\n",
              "<table border=\"1\" class=\"dataframe\">\n",
              "  <thead>\n",
              "    <tr style=\"text-align: right;\">\n",
              "      <th></th>\n",
              "      <th>Distance</th>\n",
              "      <th>Distance traveled</th>\n",
              "      <th>Time</th>\n",
              "      <th>Avg Speed</th>\n",
              "      <th>Battery Used</th>\n",
              "      <th>Height Difference</th>\n",
              "      <th>Completion</th>\n",
              "    </tr>\n",
              "  </thead>\n",
              "  <tbody>\n",
              "    <tr>\n",
              "      <th>0</th>\n",
              "      <td>134.063418</td>\n",
              "      <td>138.036580</td>\n",
              "      <td>371.217591</td>\n",
              "      <td>0.684124</td>\n",
              "      <td>0.834939</td>\n",
              "      <td>5.491311</td>\n",
              "      <td>True</td>\n",
              "    </tr>\n",
              "    <tr>\n",
              "      <th>1</th>\n",
              "      <td>64.381674</td>\n",
              "      <td>65.225397</td>\n",
              "      <td>158.566742</td>\n",
              "      <td>0.765357</td>\n",
              "      <td>0.076002</td>\n",
              "      <td>3.887387</td>\n",
              "      <td>True</td>\n",
              "    </tr>\n",
              "    <tr>\n",
              "      <th>2</th>\n",
              "      <td>98.954535</td>\n",
              "      <td>105.941125</td>\n",
              "      <td>365.362667</td>\n",
              "      <td>0.815191</td>\n",
              "      <td>0.786068</td>\n",
              "      <td>5.505601</td>\n",
              "      <td>True</td>\n",
              "    </tr>\n",
              "    <tr>\n",
              "      <th>3</th>\n",
              "      <td>129.402473</td>\n",
              "      <td>130.279221</td>\n",
              "      <td>244.967768</td>\n",
              "      <td>1.109709</td>\n",
              "      <td>0.871576</td>\n",
              "      <td>6.375358</td>\n",
              "      <td>True</td>\n",
              "    </tr>\n",
              "    <tr>\n",
              "      <th>4</th>\n",
              "      <td>82.292162</td>\n",
              "      <td>88.911688</td>\n",
              "      <td>244.983774</td>\n",
              "      <td>0.728626</td>\n",
              "      <td>0.000000</td>\n",
              "      <td>6.470730</td>\n",
              "      <td>True</td>\n",
              "    </tr>\n",
              "  </tbody>\n",
              "</table>\n",
              "</div>"
            ],
            "text/plain": [
              "     Distance  Distance traveled        Time  Avg Speed  Battery Used  \\\n",
              "0  134.063418         138.036580  371.217591   0.684124      0.834939   \n",
              "1   64.381674          65.225397  158.566742   0.765357      0.076002   \n",
              "2   98.954535         105.941125  365.362667   0.815191      0.786068   \n",
              "3  129.402473         130.279221  244.967768   1.109709      0.871576   \n",
              "4   82.292162          88.911688  244.983774   0.728626      0.000000   \n",
              "\n",
              "   Height Difference  Completion  \n",
              "0           5.491311        True  \n",
              "1           3.887387        True  \n",
              "2           5.505601        True  \n",
              "3           6.375358        True  \n",
              "4           6.470730        True  "
            ]
          },
          "execution_count": 33,
          "metadata": {},
          "output_type": "execute_result"
        }
      ],
      "source": [
        "a_star = pd.read_csv(\"controllers/moose_astar_supervisor/logs/performance.csv\")\n",
        "a_star.head()"
      ]
    },
    {
      "cell_type": "code",
      "execution_count": 34,
      "id": "b8787bbb",
      "metadata": {
        "id": "b8787bbb",
        "outputId": "15c0d43d-4be0-4f78-e55a-fd7700280501"
      },
      "outputs": [
        {
          "data": {
            "text/plain": [
              "Completion\n",
              "False    54\n",
              "True     46\n",
              "Name: count, dtype: int64"
            ]
          },
          "execution_count": 34,
          "metadata": {},
          "output_type": "execute_result"
        }
      ],
      "source": [
        "a_star[\"Completion\"].value_counts()"
      ]
    },
    {
      "cell_type": "code",
      "execution_count": 35,
      "id": "b19dba31",
      "metadata": {
        "id": "b19dba31",
        "outputId": "df0190e3-ef10-4c57-ca89-704a7fd19871"
      },
      "outputs": [
        {
          "name": "stdout",
          "output_type": "stream",
          "text": [
            "Taxa de sucesso: 46.00%\n"
          ]
        }
      ],
      "source": [
        "success_rate = a_star[\"Completion\"].mean()\n",
        "print(f\"Taxa de sucesso: {success_rate:.2%}\")"
      ]
    },
    {
      "cell_type": "code",
      "execution_count": 36,
      "id": "65fd366b",
      "metadata": {
        "id": "65fd366b",
        "outputId": "17c35c4d-6d1d-4140-c079-63a6bd2c561b"
      },
      "outputs": [
        {
          "name": "stdout",
          "output_type": "stream",
          "text": [
            "Tempo médio: 226.01 segundos\n"
          ]
        }
      ],
      "source": [
        "avg_time = a_star[\"Time\"].mean()\n",
        "print(f\"Tempo médio: {avg_time:.2f} segundos\")"
      ]
    },
    {
      "cell_type": "code",
      "execution_count": 37,
      "id": "066b1f5d",
      "metadata": {
        "id": "066b1f5d",
        "outputId": "d047b6c6-3326-4b94-d400-b4531dd1b694"
      },
      "outputs": [
        {
          "name": "stdout",
          "output_type": "stream",
          "text": [
            "Desvio médio (Distância percorrida - planeada):\n",
            "count    100.000000\n",
            "mean     -40.084466\n",
            "std       54.724086\n",
            "min     -183.114938\n",
            "25%      -85.057155\n",
            "50%      -13.513878\n",
            "75%        3.583287\n",
            "max       16.679392\n",
            "Name: Desvio, dtype: float64\n"
          ]
        }
      ],
      "source": [
        "a_star[\"Desvio\"] = a_star[\"Distance traveled\"] - a_star[\"Distance\"]\n",
        "print(\"Desvio médio (Distância percorrida - planeada):\")\n",
        "print(a_star[\"Desvio\"].describe())"
      ]
    },
    {
      "cell_type": "code",
      "execution_count": 38,
      "id": "a4a89e4e",
      "metadata": {
        "id": "a4a89e4e",
        "outputId": "1c81218a-f692-4b67-a03b-44c839b9da29"
      },
      "outputs": [
        {
          "name": "stdout",
          "output_type": "stream",
          "text": [
            "Velocidade média: 0.63 m/s\n"
          ]
        }
      ],
      "source": [
        "avg_speed = a_star[\"Avg Speed\"].mean()\n",
        "print(f\"Velocidade média: {avg_speed:.2f} m/s\")"
      ]
    },
    {
      "cell_type": "code",
      "execution_count": 39,
      "id": "cbb87055",
      "metadata": {
        "id": "cbb87055",
        "outputId": "8fc0d06d-6fa2-44be-87f5-6e3cf181bf05"
      },
      "outputs": [
        {
          "name": "stdout",
          "output_type": "stream",
          "text": [
            "Comparação entre Resultados:\n",
            "                  Time             Distance traveled            Avg Speed  \\\n",
            "                  mean         std              mean        std      mean   \n",
            "Completion                                                                  \n",
            "False       150.120974  183.903201         24.704365  39.372379  0.625599   \n",
            "True        315.102704  240.200613         95.138724  47.874324  0.640872   \n",
            "\n",
            "                     Height Difference            \n",
            "                 std              mean       std  \n",
            "Completion                                        \n",
            "False       0.236304          1.402802  1.998861  \n",
            "True        0.213160          4.660505  2.663829  \n"
          ]
        }
      ],
      "source": [
        "grouped = a_star.groupby(\"Completion\").agg({\n",
        "    \"Time\": [\"mean\", \"std\"],\n",
        "    \"Distance traveled\": [\"mean\", \"std\"],\n",
        "    \"Avg Speed\": [\"mean\", \"std\"],\n",
        "    \"Height Difference\": [\"mean\", \"std\"]\n",
        "})\n",
        "\n",
        "print(\"Comparação entre Resultados:\")\n",
        "print(grouped)"
      ]
    },
    {
      "cell_type": "code",
      "execution_count": 40,
      "id": "64112a65",
      "metadata": {
        "id": "64112a65",
        "outputId": "0b06189d-7a77-40a0-872a-1b27860c973c"
      },
      "outputs": [
        {
          "name": "stdout",
          "output_type": "stream",
          "text": [
            "Eficiência média (sucesso): 94.66%\n"
          ]
        },
        {
          "name": "stderr",
          "output_type": "stream",
          "text": [
            "C:\\Users\\isabe\\AppData\\Local\\Temp\\ipykernel_4736\\1887011073.py:5: SettingWithCopyWarning: \n",
            "A value is trying to be set on a copy of a slice from a DataFrame.\n",
            "Try using .loc[row_indexer,col_indexer] = value instead\n",
            "\n",
            "See the caveats in the documentation: https://pandas.pydata.org/pandas-docs/stable/user_guide/indexing.html#returning-a-view-versus-a-copy\n",
            "  sucessos['Efficiency (%)'] = (sucessos['Distance'] / sucessos['Distance traveled']) * 100\n"
          ]
        }
      ],
      "source": [
        "# Filtra só as linhas de sucesso\n",
        "sucessos = a_star[a_star['Completion'] == True]\n",
        "\n",
        "# Calcula a eficiência média\n",
        "sucessos['Efficiency (%)'] = (sucessos['Distance'] / sucessos['Distance traveled']) * 100\n",
        "eficiencia_media_sucesso = sucessos['Efficiency (%)'].mean()\n",
        "\n",
        "print(f\"Eficiência média (sucesso): {eficiencia_media_sucesso:.2f}%\")\n"
      ]
    },
    {
      "cell_type": "markdown",
      "id": "LFAqBTiR1rsU",
      "metadata": {
        "id": "LFAqBTiR1rsU"
      },
      "source": [
        "A2C"
      ]
    },
    {
      "cell_type": "code",
      "execution_count": 41,
      "id": "91pTvqnl08jZ",
      "metadata": {
        "colab": {
          "base_uri": "https://localhost:8080/",
          "height": 206
        },
        "id": "91pTvqnl08jZ",
        "outputId": "38fe8f18-509c-405b-87a9-628bb5d6c211"
      },
      "outputs": [
        {
          "data": {
            "text/html": [
              "<div>\n",
              "<style scoped>\n",
              "    .dataframe tbody tr th:only-of-type {\n",
              "        vertical-align: middle;\n",
              "    }\n",
              "\n",
              "    .dataframe tbody tr th {\n",
              "        vertical-align: top;\n",
              "    }\n",
              "\n",
              "    .dataframe thead th {\n",
              "        text-align: right;\n",
              "    }\n",
              "</style>\n",
              "<table border=\"1\" class=\"dataframe\">\n",
              "  <thead>\n",
              "    <tr style=\"text-align: right;\">\n",
              "      <th></th>\n",
              "      <th>Distance</th>\n",
              "      <th>Distance traveled</th>\n",
              "      <th>Time</th>\n",
              "      <th>Avg Speed</th>\n",
              "      <th>Height Difference</th>\n",
              "      <th>Completion</th>\n",
              "    </tr>\n",
              "  </thead>\n",
              "  <tbody>\n",
              "    <tr>\n",
              "      <th>0</th>\n",
              "      <td>114.352568</td>\n",
              "      <td>187.902079</td>\n",
              "      <td>122.668</td>\n",
              "      <td>1.531794</td>\n",
              "      <td>5.886933</td>\n",
              "      <td>False</td>\n",
              "    </tr>\n",
              "    <tr>\n",
              "      <th>1</th>\n",
              "      <td>89.451456</td>\n",
              "      <td>0.039379</td>\n",
              "      <td>112.936</td>\n",
              "      <td>0.000349</td>\n",
              "      <td>0.094197</td>\n",
              "      <td>False</td>\n",
              "    </tr>\n",
              "    <tr>\n",
              "      <th>2</th>\n",
              "      <td>76.216701</td>\n",
              "      <td>0.043157</td>\n",
              "      <td>113.148</td>\n",
              "      <td>0.000381</td>\n",
              "      <td>0.207645</td>\n",
              "      <td>False</td>\n",
              "    </tr>\n",
              "    <tr>\n",
              "      <th>3</th>\n",
              "      <td>71.014797</td>\n",
              "      <td>0.043159</td>\n",
              "      <td>113.156</td>\n",
              "      <td>0.000381</td>\n",
              "      <td>0.001728</td>\n",
              "      <td>False</td>\n",
              "    </tr>\n",
              "    <tr>\n",
              "      <th>4</th>\n",
              "      <td>52.752696</td>\n",
              "      <td>0.032604</td>\n",
              "      <td>40.008</td>\n",
              "      <td>0.000815</td>\n",
              "      <td>0.104459</td>\n",
              "      <td>False</td>\n",
              "    </tr>\n",
              "  </tbody>\n",
              "</table>\n",
              "</div>"
            ],
            "text/plain": [
              "     Distance  Distance traveled     Time  Avg Speed  Height Difference  \\\n",
              "0  114.352568         187.902079  122.668   1.531794           5.886933   \n",
              "1   89.451456           0.039379  112.936   0.000349           0.094197   \n",
              "2   76.216701           0.043157  113.148   0.000381           0.207645   \n",
              "3   71.014797           0.043159  113.156   0.000381           0.001728   \n",
              "4   52.752696           0.032604   40.008   0.000815           0.104459   \n",
              "\n",
              "   Completion  \n",
              "0       False  \n",
              "1       False  \n",
              "2       False  \n",
              "3       False  \n",
              "4       False  "
            ]
          },
          "execution_count": 41,
          "metadata": {},
          "output_type": "execute_result"
        }
      ],
      "source": [
        "a2c = pd.read_csv(\"controllers/moose_gym/logs/performance.csv\")\n",
        "a2c.head()"
      ]
    },
    {
      "cell_type": "code",
      "execution_count": 42,
      "id": "WjMc4nIF106B",
      "metadata": {
        "colab": {
          "base_uri": "https://localhost:8080/",
          "height": 147
        },
        "id": "WjMc4nIF106B",
        "outputId": "8edd29c5-ecbc-4168-efca-110c392b2848"
      },
      "outputs": [
        {
          "data": {
            "text/plain": [
              "Completion\n",
              "False    100\n",
              "Name: count, dtype: int64"
            ]
          },
          "execution_count": 42,
          "metadata": {},
          "output_type": "execute_result"
        }
      ],
      "source": [
        "a2c[\"Completion\"].value_counts()"
      ]
    },
    {
      "cell_type": "code",
      "execution_count": 43,
      "id": "7ufVNRA92E4g",
      "metadata": {
        "colab": {
          "base_uri": "https://localhost:8080/"
        },
        "id": "7ufVNRA92E4g",
        "outputId": "d33d8f5f-c485-4a9e-c7d9-e2d2007570bc"
      },
      "outputs": [
        {
          "name": "stdout",
          "output_type": "stream",
          "text": [
            "Tempo médio: 63.51 segundos\n"
          ]
        }
      ],
      "source": [
        "avg_time = a2c[\"Time\"].mean()\n",
        "print(f\"Tempo médio: {avg_time:.2f} segundos\")"
      ]
    },
    {
      "cell_type": "code",
      "execution_count": 44,
      "id": "NVK-b74O2QU8",
      "metadata": {
        "colab": {
          "base_uri": "https://localhost:8080/"
        },
        "id": "NVK-b74O2QU8",
        "outputId": "09563bfc-926f-4e9f-d8a0-536ba1c280eb"
      },
      "outputs": [
        {
          "name": "stdout",
          "output_type": "stream",
          "text": [
            "Taxa de sucesso: 0.00%\n"
          ]
        }
      ],
      "source": [
        "success_rate = a2c[\"Completion\"].mean()\n",
        "print(f\"Taxa de sucesso: {success_rate:.2%}\")"
      ]
    },
    {
      "cell_type": "code",
      "execution_count": 45,
      "id": "WW9TnT0T27N6",
      "metadata": {
        "colab": {
          "base_uri": "https://localhost:8080/"
        },
        "id": "WW9TnT0T27N6",
        "outputId": "f6378e47-c482-45eb-f795-0c83ec0c0ed2"
      },
      "outputs": [
        {
          "name": "stdout",
          "output_type": "stream",
          "text": [
            "Velocidade média: 1.89 m/s\n"
          ]
        }
      ],
      "source": [
        "avg_speed = a2c[\"Avg Speed\"].mean()\n",
        "print(f\"Velocidade média: {avg_speed:.2f} m/s\")"
      ]
    },
    {
      "cell_type": "code",
      "execution_count": 46,
      "id": "4cjRylqj3BC0",
      "metadata": {
        "colab": {
          "base_uri": "https://localhost:8080/"
        },
        "id": "4cjRylqj3BC0",
        "outputId": "f6992d54-3656-4cd5-ee14-94664559b942"
      },
      "outputs": [
        {
          "name": "stdout",
          "output_type": "stream",
          "text": [
            "Desvio médio (Distância percorrida - planeada):\n",
            "count    100.000000\n",
            "mean     -22.609669\n",
            "std       71.580584\n",
            "min     -140.170285\n",
            "25%      -81.888407\n",
            "50%      -31.119599\n",
            "75%       22.570813\n",
            "max      173.004203\n",
            "Name: Desvio, dtype: float64\n"
          ]
        }
      ],
      "source": [
        "a2c[\"Desvio\"] = a2c[\"Distance traveled\"] - a2c[\"Distance\"]\n",
        "print(\"Desvio médio (Distância percorrida - planeada):\")\n",
        "print(a2c[\"Desvio\"].describe())"
      ]
    },
    {
      "cell_type": "code",
      "execution_count": 47,
      "id": "Vz3VY0X43VJ4",
      "metadata": {
        "colab": {
          "base_uri": "https://localhost:8080/"
        },
        "id": "Vz3VY0X43VJ4",
        "outputId": "a4eb96d4-aab5-45fb-84df-364c089ff289"
      },
      "outputs": [
        {
          "name": "stdout",
          "output_type": "stream",
          "text": [
            "Comparação entre resultados:\n",
            "                Time            Distance traveled            Avg Speed  \\\n",
            "                mean        std              mean        std      mean   \n",
            "Completion                                                               \n",
            "False       63.51412  69.548745         79.957577  70.914845  1.894683   \n",
            "\n",
            "                    Height Difference            \n",
            "                std              mean       std  \n",
            "Completion                                       \n",
            "False       2.35217          3.343846  3.146311  \n"
          ]
        }
      ],
      "source": [
        "group = a2c.groupby(\"Completion\").agg({\n",
        "    \"Time\": [\"mean\", \"std\"],\n",
        "    \"Distance traveled\": [\"mean\", \"std\"],\n",
        "    \"Avg Speed\": [\"mean\", \"std\"],\n",
        "    \"Height Difference\": [\"mean\", \"std\"]})\n",
        "\n",
        "print(\"Comparação entre resultados:\")\n",
        "print(group)"
      ]
    },
    {
      "cell_type": "code",
      "execution_count": 48,
      "id": "pzclo32J3pt_",
      "metadata": {
        "colab": {
          "base_uri": "https://localhost:8080/"
        },
        "id": "pzclo32J3pt_",
        "outputId": "1668c4ff-92ee-4c08-e010-88032141c619"
      },
      "outputs": [
        {
          "name": "stdout",
          "output_type": "stream",
          "text": [
            "Correlação entre tempo e distância percorrida: 0.27\n"
          ]
        }
      ],
      "source": [
        "corr = a2c[\"Time\"].corr(a2c[\"Distance traveled\"])\n",
        "print(f\"Correlação entre tempo e distância percorrida: {corr:.2f}\")"
      ]
    },
    {
      "cell_type": "code",
      "execution_count": 49,
      "id": "qIizh7mB5gWp",
      "metadata": {
        "colab": {
          "base_uri": "https://localhost:8080/",
          "height": 175
        },
        "id": "qIizh7mB5gWp",
        "outputId": "bc83083f-4e9b-478f-b4cf-4ad6f7135601"
      },
      "outputs": [
        {
          "data": {
            "text/html": [
              "<div>\n",
              "<style scoped>\n",
              "    .dataframe tbody tr th:only-of-type {\n",
              "        vertical-align: middle;\n",
              "    }\n",
              "\n",
              "    .dataframe tbody tr th {\n",
              "        vertical-align: top;\n",
              "    }\n",
              "\n",
              "    .dataframe thead th {\n",
              "        text-align: right;\n",
              "    }\n",
              "</style>\n",
              "<table border=\"1\" class=\"dataframe\">\n",
              "  <thead>\n",
              "    <tr style=\"text-align: right;\">\n",
              "      <th></th>\n",
              "      <th>Mean</th>\n",
              "      <th>Std Dev</th>\n",
              "      <th>Min</th>\n",
              "      <th>Median</th>\n",
              "      <th>Max</th>\n",
              "    </tr>\n",
              "  </thead>\n",
              "  <tbody>\n",
              "    <tr>\n",
              "      <th>Distance</th>\n",
              "      <td>102.567246</td>\n",
              "      <td>41.266988</td>\n",
              "      <td>15.223013</td>\n",
              "      <td>98.107374</td>\n",
              "      <td>203.681626</td>\n",
              "    </tr>\n",
              "    <tr>\n",
              "      <th>Distance traveled</th>\n",
              "      <td>79.957577</td>\n",
              "      <td>70.914845</td>\n",
              "      <td>0.032604</td>\n",
              "      <td>82.627596</td>\n",
              "      <td>289.810449</td>\n",
              "    </tr>\n",
              "    <tr>\n",
              "      <th>Time</th>\n",
              "      <td>63.514120</td>\n",
              "      <td>69.548745</td>\n",
              "      <td>13.160000</td>\n",
              "      <td>48.156000</td>\n",
              "      <td>678.760000</td>\n",
              "    </tr>\n",
              "    <tr>\n",
              "      <th>Avg Speed</th>\n",
              "      <td>1.894683</td>\n",
              "      <td>2.352170</td>\n",
              "      <td>0.000349</td>\n",
              "      <td>1.467422</td>\n",
              "      <td>8.527367</td>\n",
              "    </tr>\n",
              "  </tbody>\n",
              "</table>\n",
              "</div>"
            ],
            "text/plain": [
              "                         Mean    Std Dev        Min     Median         Max\n",
              "Distance           102.567246  41.266988  15.223013  98.107374  203.681626\n",
              "Distance traveled   79.957577  70.914845   0.032604  82.627596  289.810449\n",
              "Time                63.514120  69.548745  13.160000  48.156000  678.760000\n",
              "Avg Speed            1.894683   2.352170   0.000349   1.467422    8.527367"
            ]
          },
          "execution_count": 49,
          "metadata": {},
          "output_type": "execute_result"
        }
      ],
      "source": [
        "# Select the columns for which to calculate statistics\n",
        "metrics = ['Distance', 'Distance traveled', 'Time', 'Avg Speed']\n",
        "\n",
        "# Calculate descriptive statistics for the selected columns\n",
        "summary_table = a2c[metrics].agg(['mean', 'std', 'min', 'median', 'max'])\n",
        "\n",
        "# Transpose the table for the desired output format\n",
        "summary_table = summary_table.T\n",
        "\n",
        "# Rename the columns for clarity in the report\n",
        "summary_table = summary_table.rename(columns={'mean': 'Mean', 'std': 'Std Dev', 'min': 'Min', 'median': 'Median', 'max': 'Max'})\n",
        "\n",
        "# Display the summary table\n",
        "summary_table"
      ]
    },
    {
      "cell_type": "code",
      "execution_count": 50,
      "id": "3AtzrUmV7Jhl",
      "metadata": {
        "colab": {
          "base_uri": "https://localhost:8080/",
          "height": 206
        },
        "id": "3AtzrUmV7Jhl",
        "outputId": "5c31b8cc-c0f9-4331-cc1d-13bfaca8196c"
      },
      "outputs": [
        {
          "data": {
            "text/html": [
              "<div>\n",
              "<style scoped>\n",
              "    .dataframe tbody tr th:only-of-type {\n",
              "        vertical-align: middle;\n",
              "    }\n",
              "\n",
              "    .dataframe tbody tr th {\n",
              "        vertical-align: top;\n",
              "    }\n",
              "\n",
              "    .dataframe thead th {\n",
              "        text-align: right;\n",
              "    }\n",
              "</style>\n",
              "<table border=\"1\" class=\"dataframe\">\n",
              "  <thead>\n",
              "    <tr style=\"text-align: right;\">\n",
              "      <th></th>\n",
              "      <th>Mean</th>\n",
              "      <th>Std Dev</th>\n",
              "      <th>Min</th>\n",
              "      <th>Median</th>\n",
              "      <th>Max</th>\n",
              "    </tr>\n",
              "  </thead>\n",
              "  <tbody>\n",
              "    <tr>\n",
              "      <th>Distance</th>\n",
              "      <td>102.567246</td>\n",
              "      <td>41.266988</td>\n",
              "      <td>15.223013</td>\n",
              "      <td>98.107374</td>\n",
              "      <td>203.681626</td>\n",
              "    </tr>\n",
              "    <tr>\n",
              "      <th>Distance traveled</th>\n",
              "      <td>79.957577</td>\n",
              "      <td>70.914845</td>\n",
              "      <td>0.032604</td>\n",
              "      <td>82.627596</td>\n",
              "      <td>289.810449</td>\n",
              "    </tr>\n",
              "    <tr>\n",
              "      <th>Time</th>\n",
              "      <td>63.51412</td>\n",
              "      <td>69.548745</td>\n",
              "      <td>13.16</td>\n",
              "      <td>48.156</td>\n",
              "      <td>678.76</td>\n",
              "    </tr>\n",
              "    <tr>\n",
              "      <th>Avg Speed</th>\n",
              "      <td>1.894683</td>\n",
              "      <td>2.35217</td>\n",
              "      <td>0.000349</td>\n",
              "      <td>1.467422</td>\n",
              "      <td>8.527367</td>\n",
              "    </tr>\n",
              "    <tr>\n",
              "      <th>Completion</th>\n",
              "      <td>0.0</td>\n",
              "      <td>0.0</td>\n",
              "      <td>False</td>\n",
              "      <td>0.0</td>\n",
              "      <td>False</td>\n",
              "    </tr>\n",
              "  </tbody>\n",
              "</table>\n",
              "</div>"
            ],
            "text/plain": [
              "                         Mean    Std Dev        Min     Median         Max\n",
              "Distance           102.567246  41.266988  15.223013  98.107374  203.681626\n",
              "Distance traveled   79.957577  70.914845   0.032604  82.627596  289.810449\n",
              "Time                 63.51412  69.548745      13.16     48.156      678.76\n",
              "Avg Speed            1.894683    2.35217   0.000349   1.467422    8.527367\n",
              "Completion                0.0        0.0      False        0.0       False"
            ]
          },
          "execution_count": 50,
          "metadata": {},
          "output_type": "execute_result"
        }
      ],
      "source": [
        "metrics = ['Distance', 'Distance traveled', 'Time', 'Avg Speed', 'Completion']\n",
        "summary_table = a2c[metrics].agg(['mean', 'std', 'min', 'median', 'max'])\n",
        "summary_table = summary_table.T\n",
        "summary_table = summary_table.rename(columns={'mean': 'Mean', 'std': 'Std Dev', 'min': 'Min', 'median': 'Median', 'max': 'Max'})\n",
        "summary_table"
      ]
    },
    {
      "cell_type": "markdown",
      "id": "67de1a03",
      "metadata": {},
      "source": [
        "Novo AC2"
      ]
    },
    {
      "cell_type": "code",
      "execution_count": 51,
      "id": "5e2b756d",
      "metadata": {},
      "outputs": [
        {
          "data": {
            "text/html": [
              "<div>\n",
              "<style scoped>\n",
              "    .dataframe tbody tr th:only-of-type {\n",
              "        vertical-align: middle;\n",
              "    }\n",
              "\n",
              "    .dataframe tbody tr th {\n",
              "        vertical-align: top;\n",
              "    }\n",
              "\n",
              "    .dataframe thead th {\n",
              "        text-align: right;\n",
              "    }\n",
              "</style>\n",
              "<table border=\"1\" class=\"dataframe\">\n",
              "  <thead>\n",
              "    <tr style=\"text-align: right;\">\n",
              "      <th></th>\n",
              "      <th>Distance</th>\n",
              "      <th>Distance traveled</th>\n",
              "      <th>Time</th>\n",
              "      <th>Avg Speed</th>\n",
              "      <th>Height Difference</th>\n",
              "      <th>Height Std</th>\n",
              "      <th>Minimum distance to goal</th>\n",
              "      <th>Completion</th>\n",
              "    </tr>\n",
              "  </thead>\n",
              "  <tbody>\n",
              "    <tr>\n",
              "      <th>0</th>\n",
              "      <td>26.941541</td>\n",
              "      <td>25.319217</td>\n",
              "      <td>14.520</td>\n",
              "      <td>1.743748</td>\n",
              "      <td>3.426072</td>\n",
              "      <td>0.917732</td>\n",
              "      <td>4.999085</td>\n",
              "      <td>True</td>\n",
              "    </tr>\n",
              "    <tr>\n",
              "      <th>1</th>\n",
              "      <td>21.009287</td>\n",
              "      <td>18.954831</td>\n",
              "      <td>12.060</td>\n",
              "      <td>1.571711</td>\n",
              "      <td>1.925156</td>\n",
              "      <td>0.444069</td>\n",
              "      <td>4.999577</td>\n",
              "      <td>True</td>\n",
              "    </tr>\n",
              "    <tr>\n",
              "      <th>2</th>\n",
              "      <td>23.915260</td>\n",
              "      <td>19.565921</td>\n",
              "      <td>12.548</td>\n",
              "      <td>1.559286</td>\n",
              "      <td>1.654838</td>\n",
              "      <td>0.450806</td>\n",
              "      <td>4.999697</td>\n",
              "      <td>True</td>\n",
              "    </tr>\n",
              "    <tr>\n",
              "      <th>3</th>\n",
              "      <td>22.062810</td>\n",
              "      <td>17.567988</td>\n",
              "      <td>11.520</td>\n",
              "      <td>1.524999</td>\n",
              "      <td>1.640841</td>\n",
              "      <td>0.380659</td>\n",
              "      <td>4.988326</td>\n",
              "      <td>True</td>\n",
              "    </tr>\n",
              "    <tr>\n",
              "      <th>4</th>\n",
              "      <td>28.609793</td>\n",
              "      <td>31.494882</td>\n",
              "      <td>16.580</td>\n",
              "      <td>1.899571</td>\n",
              "      <td>3.301293</td>\n",
              "      <td>0.774255</td>\n",
              "      <td>4.998841</td>\n",
              "      <td>True</td>\n",
              "    </tr>\n",
              "  </tbody>\n",
              "</table>\n",
              "</div>"
            ],
            "text/plain": [
              "    Distance  Distance traveled    Time  Avg Speed  Height Difference  \\\n",
              "0  26.941541          25.319217  14.520   1.743748           3.426072   \n",
              "1  21.009287          18.954831  12.060   1.571711           1.925156   \n",
              "2  23.915260          19.565921  12.548   1.559286           1.654838   \n",
              "3  22.062810          17.567988  11.520   1.524999           1.640841   \n",
              "4  28.609793          31.494882  16.580   1.899571           3.301293   \n",
              "\n",
              "   Height Std  Minimum distance to goal  Completion  \n",
              "0    0.917732                  4.999085        True  \n",
              "1    0.444069                  4.999577        True  \n",
              "2    0.450806                  4.999697        True  \n",
              "3    0.380659                  4.988326        True  \n",
              "4    0.774255                  4.998841        True  "
            ]
          },
          "execution_count": 51,
          "metadata": {},
          "output_type": "execute_result"
        }
      ],
      "source": [
        "a2c = pd.read_csv(\"controllers/moose_gym/logs/performance_v5.csv\")\n",
        "a2c.head()"
      ]
    },
    {
      "cell_type": "code",
      "execution_count": 52,
      "id": "b1680191",
      "metadata": {},
      "outputs": [
        {
          "data": {
            "text/plain": [
              "Completion\n",
              "False    87\n",
              "True     13\n",
              "Name: count, dtype: int64"
            ]
          },
          "execution_count": 52,
          "metadata": {},
          "output_type": "execute_result"
        }
      ],
      "source": [
        "a2c[\"Completion\"].value_counts()"
      ]
    },
    {
      "cell_type": "code",
      "execution_count": 53,
      "id": "16e2725a",
      "metadata": {},
      "outputs": [
        {
          "name": "stdout",
          "output_type": "stream",
          "text": [
            "Tempo médio: 51.85 segundos\n"
          ]
        }
      ],
      "source": [
        "avg_time = a2c[\"Time\"].mean()\n",
        "print(f\"Tempo médio: {avg_time:.2f} segundos\")"
      ]
    },
    {
      "cell_type": "code",
      "execution_count": 54,
      "id": "591397cf",
      "metadata": {},
      "outputs": [
        {
          "name": "stdout",
          "output_type": "stream",
          "text": [
            "Taxa de sucesso: 13.00%\n"
          ]
        }
      ],
      "source": [
        "success_rate = a2c[\"Completion\"].mean()\n",
        "print(f\"Taxa de sucesso: {success_rate:.2%}\")"
      ]
    },
    {
      "cell_type": "code",
      "execution_count": 55,
      "id": "0fb5f8d8",
      "metadata": {},
      "outputs": [
        {
          "name": "stdout",
          "output_type": "stream",
          "text": [
            "Velocidade média: 1.99 m/s\n"
          ]
        }
      ],
      "source": [
        "avg_speed = a2c[\"Avg Speed\"].mean()\n",
        "print(f\"Velocidade média: {avg_speed:.2f} m/s\")"
      ]
    },
    {
      "cell_type": "code",
      "execution_count": 56,
      "id": "e18754c0",
      "metadata": {},
      "outputs": [
        {
          "name": "stdout",
          "output_type": "stream",
          "text": [
            "Desvio médio (Distância percorrida - planeada):\n",
            "count    100.000000\n",
            "mean      60.883028\n",
            "std      100.940347\n",
            "min      -33.794218\n",
            "25%       -9.984259\n",
            "50%       -0.267503\n",
            "75%      100.953198\n",
            "max      295.232922\n",
            "Name: Desvio, dtype: float64\n"
          ]
        }
      ],
      "source": [
        "a2c[\"Desvio\"] = a2c[\"Distance traveled\"] - a2c[\"Distance\"]\n",
        "print(\"Desvio médio (Distância percorrida - planeada):\")\n",
        "print(a2c[\"Desvio\"].describe())"
      ]
    },
    {
      "cell_type": "code",
      "execution_count": 57,
      "id": "8256ebc0",
      "metadata": {},
      "outputs": [
        {
          "name": "stdout",
          "output_type": "stream",
          "text": [
            "Comparação entre resultados:\n",
            "                 Time            Distance traveled             Avg Speed  \\\n",
            "                 mean        std              mean         std      mean   \n",
            "Completion                                                                 \n",
            "False       57.741195  38.406212         97.378496  105.656776  2.040623   \n",
            "True        12.410462   4.268253         21.356906    8.679138  1.613013   \n",
            "\n",
            "                     Height Difference            \n",
            "                 std              mean       std  \n",
            "Completion                                        \n",
            "False       2.367026          2.935031  3.467189  \n",
            "True        0.358466          2.343707  1.300851  \n"
          ]
        }
      ],
      "source": [
        "group = a2c.groupby(\"Completion\").agg({\n",
        "    \"Time\": [\"mean\", \"std\"],\n",
        "    \"Distance traveled\": [\"mean\", \"std\"],\n",
        "    \"Avg Speed\": [\"mean\", \"std\"],\n",
        "    \"Height Difference\": [\"mean\", \"std\"]})\n",
        "\n",
        "print(\"Comparação entre resultados:\")\n",
        "print(group)"
      ]
    },
    {
      "cell_type": "code",
      "execution_count": 58,
      "id": "57983c63",
      "metadata": {},
      "outputs": [
        {
          "data": {
            "text/html": [
              "<div>\n",
              "<style scoped>\n",
              "    .dataframe tbody tr th:only-of-type {\n",
              "        vertical-align: middle;\n",
              "    }\n",
              "\n",
              "    .dataframe tbody tr th {\n",
              "        vertical-align: top;\n",
              "    }\n",
              "\n",
              "    .dataframe thead th {\n",
              "        text-align: right;\n",
              "    }\n",
              "</style>\n",
              "<table border=\"1\" class=\"dataframe\">\n",
              "  <thead>\n",
              "    <tr style=\"text-align: right;\">\n",
              "      <th></th>\n",
              "      <th>Mean</th>\n",
              "      <th>Std Dev</th>\n",
              "      <th>Min</th>\n",
              "      <th>Median</th>\n",
              "      <th>Max</th>\n",
              "    </tr>\n",
              "  </thead>\n",
              "  <tbody>\n",
              "    <tr>\n",
              "      <th>Distance</th>\n",
              "      <td>26.612661</td>\n",
              "      <td>9.964789</td>\n",
              "      <td>3.284565</td>\n",
              "      <td>25.891354</td>\n",
              "      <td>47.662261</td>\n",
              "    </tr>\n",
              "    <tr>\n",
              "      <th>Distance traveled</th>\n",
              "      <td>87.495689</td>\n",
              "      <td>101.817627</td>\n",
              "      <td>0.002437</td>\n",
              "      <td>23.835766</td>\n",
              "      <td>317.452150</td>\n",
              "    </tr>\n",
              "    <tr>\n",
              "      <th>Time</th>\n",
              "      <td>51.848200</td>\n",
              "      <td>38.965466</td>\n",
              "      <td>0.004000</td>\n",
              "      <td>44.120000</td>\n",
              "      <td>159.016000</td>\n",
              "    </tr>\n",
              "    <tr>\n",
              "      <th>Avg Speed</th>\n",
              "      <td>1.985034</td>\n",
              "      <td>2.214397</td>\n",
              "      <td>0.200008</td>\n",
              "      <td>1.566946</td>\n",
              "      <td>8.483998</td>\n",
              "    </tr>\n",
              "  </tbody>\n",
              "</table>\n",
              "</div>"
            ],
            "text/plain": [
              "                        Mean     Std Dev       Min     Median         Max\n",
              "Distance           26.612661    9.964789  3.284565  25.891354   47.662261\n",
              "Distance traveled  87.495689  101.817627  0.002437  23.835766  317.452150\n",
              "Time               51.848200   38.965466  0.004000  44.120000  159.016000\n",
              "Avg Speed           1.985034    2.214397  0.200008   1.566946    8.483998"
            ]
          },
          "execution_count": 58,
          "metadata": {},
          "output_type": "execute_result"
        }
      ],
      "source": [
        "# Select the columns for which to calculate statistics\n",
        "metrics = ['Distance', 'Distance traveled', 'Time', 'Avg Speed']\n",
        "\n",
        "# Calculate descriptive statistics for the selected columns\n",
        "summary_table = a2c[metrics].agg(['mean', 'std', 'min', 'median', 'max'])\n",
        "\n",
        "# Transpose the table for the desired output format\n",
        "summary_table = summary_table.T\n",
        "\n",
        "# Rename the columns for clarity in the report\n",
        "summary_table = summary_table.rename(columns={'mean': 'Mean', 'std': 'Std Dev', 'min': 'Min', 'median': 'Median', 'max': 'Max'})\n",
        "\n",
        "# Display the summary table\n",
        "summary_table"
      ]
    },
    {
      "cell_type": "code",
      "execution_count": 59,
      "id": "abdc32b0",
      "metadata": {},
      "outputs": [
        {
          "data": {
            "text/html": [
              "<div>\n",
              "<style scoped>\n",
              "    .dataframe tbody tr th:only-of-type {\n",
              "        vertical-align: middle;\n",
              "    }\n",
              "\n",
              "    .dataframe tbody tr th {\n",
              "        vertical-align: top;\n",
              "    }\n",
              "\n",
              "    .dataframe thead th {\n",
              "        text-align: right;\n",
              "    }\n",
              "</style>\n",
              "<table border=\"1\" class=\"dataframe\">\n",
              "  <thead>\n",
              "    <tr style=\"text-align: right;\">\n",
              "      <th></th>\n",
              "      <th>Mean</th>\n",
              "      <th>Std Dev</th>\n",
              "      <th>Min</th>\n",
              "      <th>Median</th>\n",
              "      <th>Max</th>\n",
              "    </tr>\n",
              "  </thead>\n",
              "  <tbody>\n",
              "    <tr>\n",
              "      <th>Distance</th>\n",
              "      <td>26.612661</td>\n",
              "      <td>9.964789</td>\n",
              "      <td>3.284565</td>\n",
              "      <td>25.891354</td>\n",
              "      <td>47.662261</td>\n",
              "    </tr>\n",
              "    <tr>\n",
              "      <th>Distance traveled</th>\n",
              "      <td>87.495689</td>\n",
              "      <td>101.817627</td>\n",
              "      <td>0.002437</td>\n",
              "      <td>23.835766</td>\n",
              "      <td>317.45215</td>\n",
              "    </tr>\n",
              "    <tr>\n",
              "      <th>Time</th>\n",
              "      <td>51.8482</td>\n",
              "      <td>38.965466</td>\n",
              "      <td>0.004</td>\n",
              "      <td>44.12</td>\n",
              "      <td>159.016</td>\n",
              "    </tr>\n",
              "    <tr>\n",
              "      <th>Avg Speed</th>\n",
              "      <td>1.985034</td>\n",
              "      <td>2.214397</td>\n",
              "      <td>0.200008</td>\n",
              "      <td>1.566946</td>\n",
              "      <td>8.483998</td>\n",
              "    </tr>\n",
              "    <tr>\n",
              "      <th>Completion</th>\n",
              "      <td>0.13</td>\n",
              "      <td>0.337998</td>\n",
              "      <td>False</td>\n",
              "      <td>0.0</td>\n",
              "      <td>True</td>\n",
              "    </tr>\n",
              "  </tbody>\n",
              "</table>\n",
              "</div>"
            ],
            "text/plain": [
              "                        Mean     Std Dev       Min     Median        Max\n",
              "Distance           26.612661    9.964789  3.284565  25.891354  47.662261\n",
              "Distance traveled  87.495689  101.817627  0.002437  23.835766  317.45215\n",
              "Time                 51.8482   38.965466     0.004      44.12    159.016\n",
              "Avg Speed           1.985034    2.214397  0.200008   1.566946   8.483998\n",
              "Completion              0.13    0.337998     False        0.0       True"
            ]
          },
          "execution_count": 59,
          "metadata": {},
          "output_type": "execute_result"
        }
      ],
      "source": [
        "metrics = ['Distance', 'Distance traveled', 'Time', 'Avg Speed', 'Completion']\n",
        "summary_table = a2c[metrics].agg(['mean', 'std', 'min', 'median', 'max'])\n",
        "summary_table = summary_table.T\n",
        "summary_table = summary_table.rename(columns={'mean': 'Mean', 'std': 'Std Dev', 'min': 'Min', 'median': 'Median', 'max': 'Max'})\n",
        "summary_table"
      ]
    },
    {
      "cell_type": "markdown",
      "id": "83ad8320",
      "metadata": {},
      "source": [
        "Métricas Globais de Traversabilidade"
      ]
    },
    {
      "cell_type": "code",
      "execution_count": 60,
      "id": "7d81b2bc",
      "metadata": {},
      "outputs": [],
      "source": [
        "import pandas as pd\n",
        "\n",
        "# Suponha que os dados estejam num DataFrame\n",
        "df = pd.read_csv(\"controllers/moose_gym/logs/performance_v5.csv\")  # ou diretamente do texto acima\n",
        "\n",
        "# Métricas globais\n",
        "metrics_global = {\n",
        "    \"Taxa de Sucesso (%)\": df[\"Completion\"].mean() * 100,\n",
        "    \"Distância Média Percorrida\": df[\"Distance traveled\"].mean(),\n",
        "    \"Desvio Médio da Rota (%)\": ((df[\"Distance traveled\"] - df[\"Distance\"]) / df[\"Distance\"]).mean() * 100,\n",
        "    \"Velocidade Média\": df[\"Avg Speed\"].mean(),\n",
        "    \"Tempo Médio\": df[\"Time\"].mean(),\n",
        "    \"Diferença Média de Altura\": df[\"Height Difference\"].mean(),\n",
        "    \"Variabilidade de Altura (std média)\": df[\"Height Std\"].mean(),\n",
        "    \"Mínima Distância Média ao Objetivo\": df[\"Minimum distance to goal\"].mean(),\n",
        "}\n"
      ]
    },
    {
      "cell_type": "code",
      "execution_count": 61,
      "id": "ee097b9f",
      "metadata": {},
      "outputs": [
        {
          "name": "stdout",
          "output_type": "stream",
          "text": [
            "=== MÉTRICAS GLOBAIS DE TRAVERSABILIDADE ===\n",
            "\n",
            "Taxa de Sucesso:         13.00%\n",
            "Distância Percorrida:    87.50 m\n",
            "Desvio da Rota:          258.27%\n",
            "Velocidade Média:        1.99 m/s\n",
            "Tempo Médio:             51.85 s\n",
            "Altura Média:            2.86 m\n",
            "Variabilidade de Altura: 0.84 m\n",
            "Distância Mínima Média ao Objetivo: 22.443 m\n"
          ]
        }
      ],
      "source": [
        "print(\"=== MÉTRICAS GLOBAIS DE TRAVERSABILIDADE ===\\n\")\n",
        "\n",
        "taxa_sucesso = df[\"Completion\"].mean() * 100\n",
        "dist_percorrida = df[\"Distance traveled\"].mean()\n",
        "desvio_rota = ((df[\"Distance traveled\"] - df[\"Distance\"]) / df[\"Distance\"]).mean() * 100\n",
        "velocidade_media = df[\"Avg Speed\"].mean()\n",
        "tempo_medio = df[\"Time\"].mean()\n",
        "altura_media = df[\"Height Difference\"].mean()\n",
        "altura_std = df[\"Height Std\"].mean()\n",
        "min_dist_goal = df[\"Minimum distance to goal\"].mean()\n",
        "\n",
        "print(f\"Taxa de Sucesso:         {taxa_sucesso:.2f}%\")\n",
        "print(f\"Distância Percorrida:    {dist_percorrida:.2f} m\")\n",
        "print(f\"Desvio da Rota:          {desvio_rota:.2f}%\")\n",
        "print(f\"Velocidade Média:        {velocidade_media:.2f} m/s\")\n",
        "print(f\"Tempo Médio:             {tempo_medio:.2f} s\")\n",
        "print(f\"Altura Média:            {altura_media:.2f} m\")\n",
        "print(f\"Variabilidade de Altura: {altura_std:.2f} m\")\n",
        "print(f\"Distância Mínima Média ao Objetivo: {min_dist_goal:.3f} m\")\n"
      ]
    },
    {
      "cell_type": "markdown",
      "id": "65523ac5",
      "metadata": {},
      "source": [
        "Métricas por Mundo"
      ]
    },
    {
      "cell_type": "code",
      "execution_count": 62,
      "id": "2aeff877",
      "metadata": {},
      "outputs": [
        {
          "name": "stdout",
          "output_type": "stream",
          "text": [
            "\n",
            "=== MÉTRICAS POR MUNDO ===\n",
            "\n",
            "--- Mundo 0 ---\n",
            "  Taxa de Sucesso:         90.00%\n",
            "  Distância Percorrida:    43.98 m\n",
            "  Desvio da Rota:          68.87%\n",
            "  Velocidade Média:        1.72 m/s\n",
            "  Tempo Médio:             21.40 s\n",
            "  Altura Média:            2.78 m\n",
            "  Altura Std:              0.75 m\n",
            "  Dist. Mín. ao Objetivo:  7.534 m\n",
            "\n",
            "--- Mundo 1 ---\n",
            "  Taxa de Sucesso:         20.00%\n",
            "  Distância Percorrida:    77.43 m\n",
            "  Desvio da Rota:          162.22%\n",
            "  Velocidade Média:        2.34 m/s\n",
            "  Tempo Médio:             35.18 s\n",
            "  Altura Média:            2.62 m\n",
            "  Altura Std:              0.78 m\n",
            "  Dist. Mín. ao Objetivo:  24.541 m\n",
            "\n",
            "--- Mundo 2 ---\n",
            "  Taxa de Sucesso:         0.00%\n",
            "  Distância Percorrida:    9.83 m\n",
            "  Desvio da Rota:          -53.92%\n",
            "  Velocidade Média:        0.20 m/s\n",
            "  Tempo Médio:             49.05 s\n",
            "  Altura Média:            1.32 m\n",
            "  Altura Std:              0.20 m\n",
            "  Dist. Mín. ao Objetivo:  20.359 m\n",
            "\n",
            "--- Mundo 3 ---\n",
            "  Taxa de Sucesso:         0.00%\n",
            "  Distância Percorrida:    67.04 m\n",
            "  Desvio da Rota:          123.30%\n",
            "  Velocidade Média:        3.95 m/s\n",
            "  Tempo Médio:             29.85 s\n",
            "  Altura Média:            1.19 m\n",
            "  Altura Std:              0.41 m\n",
            "  Dist. Mín. ao Objetivo:  27.830 m\n",
            "\n",
            "--- Mundo 4 ---\n",
            "  Taxa de Sucesso:         0.00%\n",
            "  Distância Percorrida:    169.89 m\n",
            "  Desvio da Rota:          435.31%\n",
            "  Velocidade Média:        1.53 m/s\n",
            "  Tempo Médio:             90.27 s\n",
            "  Altura Média:            5.60 m\n",
            "  Altura Std:              1.76 m\n",
            "  Dist. Mín. ao Objetivo:  27.113 m\n",
            "\n",
            "--- Mundo 5 ---\n",
            "  Taxa de Sucesso:         10.00%\n",
            "  Distância Percorrida:    72.25 m\n",
            "  Desvio da Rota:          208.01%\n",
            "  Velocidade Média:        2.06 m/s\n",
            "  Tempo Médio:             35.93 s\n",
            "  Altura Média:            2.59 m\n",
            "  Altura Std:              0.82 m\n",
            "  Dist. Mín. ao Objetivo:  23.098 m\n",
            "\n",
            "--- Mundo 6 ---\n",
            "  Taxa de Sucesso:         0.00%\n",
            "  Distância Percorrida:    106.68 m\n",
            "  Desvio da Rota:          337.62%\n",
            "  Velocidade Média:        5.16 m/s\n",
            "  Tempo Médio:             28.23 s\n",
            "  Altura Média:            1.42 m\n",
            "  Altura Std:              0.47 m\n",
            "  Dist. Mín. ao Objetivo:  22.116 m\n",
            "\n",
            "--- Mundo 7 ---\n",
            "  Taxa de Sucesso:         0.00%\n",
            "  Distância Percorrida:    9.83 m\n",
            "  Desvio da Rota:          -60.17%\n",
            "  Velocidade Média:        0.20 m/s\n",
            "  Tempo Médio:             49.08 s\n",
            "  Altura Média:            1.39 m\n",
            "  Altura Std:              0.19 m\n",
            "  Dist. Mín. ao Objetivo:  22.466 m\n",
            "\n",
            "--- Mundo 8 ---\n",
            "  Taxa de Sucesso:         10.00%\n",
            "  Distância Percorrida:    163.96 m\n",
            "  Desvio da Rota:          520.25%\n",
            "  Velocidade Média:        1.38 m/s\n",
            "  Tempo Médio:             92.91 s\n",
            "  Altura Média:            5.84 m\n",
            "  Altura Std:              1.98 m\n",
            "  Dist. Mín. ao Objetivo:  22.343 m\n",
            "\n",
            "--- Mundo 9 ---\n",
            "  Taxa de Sucesso:         0.00%\n",
            "  Distância Percorrida:    154.06 m\n",
            "  Desvio da Rota:          440.46%\n",
            "  Velocidade Média:        1.30 m/s\n",
            "  Tempo Médio:             86.56 s\n",
            "  Altura Média:            3.84 m\n",
            "  Altura Std:              1.02 m\n",
            "  Dist. Mín. ao Objetivo:  27.027 m\n",
            "\n"
          ]
        }
      ],
      "source": [
        "df[\"Mundo\"] = df.index // 10\n",
        "\n",
        "# Agrupamento por mundo\n",
        "grouped = df.groupby(\"Mundo\").agg({\n",
        "    \"Completion\": lambda x: x.mean() * 100,\n",
        "    \"Distance traveled\": \"mean\",\n",
        "    \"Distance\": \"mean\",\n",
        "    \"Time\": \"mean\",\n",
        "    \"Avg Speed\": \"mean\",\n",
        "    \"Height Difference\": \"mean\",\n",
        "    \"Height Std\": \"mean\",\n",
        "    \"Minimum distance to goal\": \"mean\",\n",
        "})\n",
        "\n",
        "# Calcula desvio médio da rota por mundo\n",
        "grouped[\"Desvio da Rota (%)\"] = ((grouped[\"Distance traveled\"] - grouped[\"Distance\"]) / grouped[\"Distance\"]) * 100\n",
        "\n",
        "print(\"\\n=== MÉTRICAS POR MUNDO ===\\n\")\n",
        "for mundo, row in grouped.iterrows():\n",
        "    print(f\"--- Mundo {mundo} ---\")\n",
        "    print(f\"  Taxa de Sucesso:         {row['Completion']:.2f}%\")\n",
        "    print(f\"  Distância Percorrida:    {row['Distance traveled']:.2f} m\")\n",
        "    print(f\"  Desvio da Rota:          {row['Desvio da Rota (%)']:.2f}%\")\n",
        "    print(f\"  Velocidade Média:        {row['Avg Speed']:.2f} m/s\")\n",
        "    print(f\"  Tempo Médio:             {row['Time']:.2f} s\")\n",
        "    print(f\"  Altura Média:            {row['Height Difference']:.2f} m\")\n",
        "    print(f\"  Altura Std:              {row['Height Std']:.2f} m\")\n",
        "    print(f\"  Dist. Mín. ao Objetivo:  {row['Minimum distance to goal']:.3f} m\\n\")\n"
      ]
    },
    {
      "cell_type": "code",
      "execution_count": 63,
      "id": "b88a8b36",
      "metadata": {},
      "outputs": [
        {
          "name": "stdout",
          "output_type": "stream",
          "text": [
            "\n",
            "SUCCESS RATE FOR ROBOT REACHING GOAL TARGET LOCATIONS\n",
            "\n",
            "Mundo     Traversability      Success Rate (%)    \n",
            "0         68.7                90.0                \n",
            "1         67.1                20.0                \n",
            "2         99.5                0.0                 \n",
            "3         87.7                0.0                 \n",
            "4         12.1                0.0                 \n",
            "5         65.1                10.0                \n",
            "6         84.3                0.0                 \n",
            "7         100.0               0.0                 \n",
            "8         0.0                 10.0                \n",
            "9         53.6                0.0                 \n"
          ]
        }
      ],
      "source": [
        "# Normalizando Altura Std entre 0 e 100\n",
        "from sklearn.preprocessing import MinMaxScaler\n",
        "\n",
        "grouped[\"Traversability\"] = 1 - MinMaxScaler().fit_transform(grouped[[\"Height Std\"]])\n",
        "grouped[\"Traversability\"] *= 100  # escala percentual\n",
        "\n",
        "# Exibir em formato de tabela\n",
        "print(\"\\nSUCCESS RATE FOR ROBOT REACHING GOAL TARGET LOCATIONS\\n\")\n",
        "print(f\"{'Mundo':<10}{'Traversability':<20}{'Success Rate (%)':<20}\")\n",
        "for idx, row in grouped.iterrows():\n",
        "    print(f\"{idx:<10}{row['Traversability']:<20.1f}{row['Completion']:<20.1f}\")\n"
      ]
    },
    {
      "cell_type": "code",
      "execution_count": 64,
      "id": "d66d10cb",
      "metadata": {},
      "outputs": [
        {
          "name": "stdout",
          "output_type": "stream",
          "text": [
            "\n",
            "SUCCESS RATE AND TRAVERSABILITY (GLOBAL)\n",
            "\n",
            "Global    Traversability      Success Rate (%)    \n",
            "          81.2                13.0                \n"
          ]
        }
      ],
      "source": [
        "from sklearn.preprocessing import MinMaxScaler\n",
        "\n",
        "# Normaliza a altura padrão (quanto menor o desnível, maior a traversabilidade)\n",
        "traversabilidade = 1 - MinMaxScaler().fit_transform(df[[\"Height Std\"]])\n",
        "df[\"Traversability\"] = traversabilidade * 100  # escala percentual\n",
        "\n",
        "# Calcula a média global\n",
        "traversabilidade_global = df[\"Traversability\"].mean()\n",
        "taxa_sucesso_global = df[\"Completion\"].mean() * 100\n",
        "\n",
        "# Exibe o resultado\n",
        "print(\"\\nSUCCESS RATE AND TRAVERSABILITY (GLOBAL)\\n\")\n",
        "print(f\"{'Global':<10}{'Traversability':<20}{'Success Rate (%)':<20}\")\n",
        "print(f\"{'':<10}{traversabilidade_global:<20.1f}{taxa_sucesso_global:<20.1f}\")\n"
      ]
    },
    {
      "cell_type": "markdown",
      "id": "31c1b062",
      "metadata": {},
      "source": []
    }
  ],
  "metadata": {
    "colab": {
      "provenance": []
    },
    "kernelspec": {
      "display_name": "apache_pythorch",
      "language": "python",
      "name": "python3"
    },
    "language_info": {
      "codemirror_mode": {
        "name": "ipython",
        "version": 3
      },
      "file_extension": ".py",
      "mimetype": "text/x-python",
      "name": "python",
      "nbconvert_exporter": "python",
      "pygments_lexer": "ipython3",
      "version": "3.11.11"
    }
  },
  "nbformat": 4,
  "nbformat_minor": 5
}
