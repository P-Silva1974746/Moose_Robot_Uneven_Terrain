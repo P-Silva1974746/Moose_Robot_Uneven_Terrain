{
 "cells": [
  {
   "cell_type": "code",
   "execution_count": 1,
   "id": "15607cdc",
   "metadata": {},
   "outputs": [],
   "source": [
    "import pandas as pd"
   ]
  },
  {
   "cell_type": "markdown",
   "id": "73e4d19d",
   "metadata": {},
   "source": [
    "Greedy"
   ]
  },
  {
   "cell_type": "code",
   "execution_count": 2,
   "id": "95e10a6b",
   "metadata": {},
   "outputs": [
    {
     "name": "stdout",
     "output_type": "stream",
     "text": [
      "   Distance  Distance traveled    Time  Avg Speed   Result\n",
      "0     88.08              90.89  120.58       1.14  Success\n",
      "1     39.36              41.40   56.78       1.36  Success\n",
      "2    148.35             160.47  153.36       1.06  Success\n",
      "3    121.34             125.18  130.37       1.41  Success\n",
      "4    133.20             139.18  156.91       1.06  Success\n",
      "Result\n",
      "Success    80\n",
      "Failure    20\n",
      "Name: count, dtype: int64\n"
     ]
    }
   ],
   "source": [
    "with open(\"controllers/moose_greedy/results/greedy_performance.csv\", \"r\") as f:\n",
    "    lines = f.read().splitlines()\n",
    "\n",
    "rows = [line.strip('\"').split(',') for line in lines]\n",
    "columns = rows[0]\n",
    "data = rows[1:]\n",
    "\n",
    "import pandas as pd\n",
    "greedy = pd.DataFrame(data, columns=columns)\n",
    "\n",
    "# Converta os dados numéricos\n",
    "for col in [\"Distance\", \"Distance traveled\", \"Time\", \"Avg Speed\"]:\n",
    "    greedy[col] = pd.to_numeric(greedy[col], errors='coerce')\n",
    "\n",
    "print(greedy.head())\n",
    "print(greedy[\"Result\"].value_counts())\n"
   ]
  },
  {
   "cell_type": "code",
   "execution_count": 3,
   "id": "033126ab",
   "metadata": {},
   "outputs": [
    {
     "name": "stdout",
     "output_type": "stream",
     "text": [
      "Taxa de sucesso: 80.00%\n"
     ]
    }
   ],
   "source": [
    "success_rate = (greedy[\"Result\"] == \"Success\").mean()\n",
    "print(f\"Taxa de sucesso: {success_rate:.2%}\")\n"
   ]
  },
  {
   "cell_type": "code",
   "execution_count": 4,
   "id": "d4035925",
   "metadata": {},
   "outputs": [
    {
     "name": "stdout",
     "output_type": "stream",
     "text": [
      "Tempo médio: 117.41 segundos\n"
     ]
    }
   ],
   "source": [
    "avg_time = greedy[\"Time\"].mean()\n",
    "print(f\"Tempo médio: {avg_time:.2f} segundos\")"
   ]
  },
  {
   "cell_type": "code",
   "execution_count": 5,
   "id": "1ab672e0",
   "metadata": {},
   "outputs": [
    {
     "name": "stdout",
     "output_type": "stream",
     "text": [
      "Desvio médio (Distância percorrida - planejada):\n",
      "count    100.00000\n",
      "mean      -0.96450\n",
      "std       20.49203\n",
      "min      -76.45000\n",
      "25%        0.95500\n",
      "50%        3.90000\n",
      "75%        8.75250\n",
      "max       37.00000\n",
      "Name: Desvio, dtype: float64\n"
     ]
    }
   ],
   "source": [
    "greedy[\"Desvio\"] = greedy[\"Distance traveled\"] - greedy[\"Distance\"]\n",
    "print(\"Desvio médio (Distância percorrida - planejada):\")\n",
    "print(greedy[\"Desvio\"].describe())"
   ]
  },
  {
   "cell_type": "code",
   "execution_count": 6,
   "id": "f9b69fd4",
   "metadata": {},
   "outputs": [
    {
     "name": "stdout",
     "output_type": "stream",
     "text": [
      "Velocidade média: 1.01 m/s\n"
     ]
    }
   ],
   "source": [
    "avg_speed = greedy[\"Avg Speed\"].mean()\n",
    "print(f\"Velocidade média: {avg_speed:.2f} m/s\")\n"
   ]
  },
  {
   "cell_type": "code",
   "execution_count": 7,
   "id": "c8b0d06e",
   "metadata": {},
   "outputs": [
    {
     "name": "stdout",
     "output_type": "stream",
     "text": [
      "Comparação entre Resultados:\n",
      "             Time            Distance traveled            Avg Speed            \\\n",
      "             mean        std              mean        std      mean       std   \n",
      "Result                                                                          \n",
      "Failure   78.5380  68.463487          45.27450  39.502238  0.819000  0.149275   \n",
      "Success  127.1335  59.401562          96.71825  54.999510  1.059125  0.237093   \n",
      "\n",
      "           Desvio             \n",
      "             mean        std  \n",
      "Result                        \n",
      "Failure -32.80350  25.267935  \n",
      "Success   6.99525   7.202722  \n"
     ]
    }
   ],
   "source": [
    "grouped = greedy.groupby(\"Result\").agg({\n",
    "    \"Time\": [\"mean\", \"std\"],\n",
    "    \"Distance traveled\": [\"mean\", \"std\"],\n",
    "    \"Avg Speed\": [\"mean\", \"std\"],\n",
    "    \"Desvio\": [\"mean\", \"std\"]\n",
    "})\n",
    "print(\"Comparação entre Resultados:\")\n",
    "print(grouped)"
   ]
  },
  {
   "cell_type": "code",
   "execution_count": 8,
   "id": "c4fa8c28",
   "metadata": {},
   "outputs": [
    {
     "name": "stdout",
     "output_type": "stream",
     "text": [
      "Correlação entre tempo e distância percorrida: 0.90\n"
     ]
    }
   ],
   "source": [
    "corr = greedy[\"Time\"].corr(greedy[\"Distance traveled\"])\n",
    "print(f\"Correlação entre tempo e distância percorrida: {corr:.2f}\")\n"
   ]
  },
  {
   "cell_type": "code",
   "execution_count": 9,
   "id": "6d628db5",
   "metadata": {},
   "outputs": [
    {
     "name": "stdout",
     "output_type": "stream",
     "text": [
      "Eficiência média (sucesso): 96.55%\n"
     ]
    },
    {
     "name": "stderr",
     "output_type": "stream",
     "text": [
      "C:\\Users\\isabe\\AppData\\Local\\Temp\\ipykernel_22224\\179856094.py:2: SettingWithCopyWarning: \n",
      "A value is trying to be set on a copy of a slice from a DataFrame.\n",
      "Try using .loc[row_indexer,col_indexer] = value instead\n",
      "\n",
      "See the caveats in the documentation: https://pandas.pydata.org/pandas-docs/stable/user_guide/indexing.html#returning-a-view-versus-a-copy\n",
      "  sucessos['Efficiency (%)'] = (sucessos['Distance'] / sucessos['Distance traveled']) * 100\n"
     ]
    }
   ],
   "source": [
    "sucessos = greedy[greedy['Result'] == 'Success']\n",
    "sucessos['Efficiency (%)'] = (sucessos['Distance'] / sucessos['Distance traveled']) * 100\n",
    "eficiencia_media_sucesso = sucessos['Efficiency (%)'].mean()\n",
    "\n",
    "print(f\"Eficiência média (sucesso): {eficiencia_media_sucesso:.2f}%\")\n"
   ]
  },
  {
   "cell_type": "markdown",
   "id": "b406a858",
   "metadata": {},
   "source": [
    "A*"
   ]
  },
  {
   "cell_type": "code",
   "execution_count": 10,
   "id": "ff1a5ad6",
   "metadata": {},
   "outputs": [
    {
     "data": {
      "text/html": [
       "<div>\n",
       "<style scoped>\n",
       "    .dataframe tbody tr th:only-of-type {\n",
       "        vertical-align: middle;\n",
       "    }\n",
       "\n",
       "    .dataframe tbody tr th {\n",
       "        vertical-align: top;\n",
       "    }\n",
       "\n",
       "    .dataframe thead th {\n",
       "        text-align: right;\n",
       "    }\n",
       "</style>\n",
       "<table border=\"1\" class=\"dataframe\">\n",
       "  <thead>\n",
       "    <tr style=\"text-align: right;\">\n",
       "      <th></th>\n",
       "      <th>Distance</th>\n",
       "      <th>Distance traveled</th>\n",
       "      <th>Time</th>\n",
       "      <th>Avg Speed</th>\n",
       "      <th>Battery Used</th>\n",
       "      <th>Height Difference</th>\n",
       "      <th>Completion</th>\n",
       "    </tr>\n",
       "  </thead>\n",
       "  <tbody>\n",
       "    <tr>\n",
       "      <th>0</th>\n",
       "      <td>134.063418</td>\n",
       "      <td>138.036580</td>\n",
       "      <td>371.217591</td>\n",
       "      <td>0.684124</td>\n",
       "      <td>0.834939</td>\n",
       "      <td>5.491311</td>\n",
       "      <td>True</td>\n",
       "    </tr>\n",
       "    <tr>\n",
       "      <th>1</th>\n",
       "      <td>64.381674</td>\n",
       "      <td>65.225397</td>\n",
       "      <td>158.566742</td>\n",
       "      <td>0.765357</td>\n",
       "      <td>0.076002</td>\n",
       "      <td>3.887387</td>\n",
       "      <td>True</td>\n",
       "    </tr>\n",
       "    <tr>\n",
       "      <th>2</th>\n",
       "      <td>98.954535</td>\n",
       "      <td>105.941125</td>\n",
       "      <td>365.362667</td>\n",
       "      <td>0.815191</td>\n",
       "      <td>0.786068</td>\n",
       "      <td>5.505601</td>\n",
       "      <td>True</td>\n",
       "    </tr>\n",
       "    <tr>\n",
       "      <th>3</th>\n",
       "      <td>129.402473</td>\n",
       "      <td>130.279221</td>\n",
       "      <td>244.967768</td>\n",
       "      <td>1.109709</td>\n",
       "      <td>0.871576</td>\n",
       "      <td>6.375358</td>\n",
       "      <td>True</td>\n",
       "    </tr>\n",
       "    <tr>\n",
       "      <th>4</th>\n",
       "      <td>82.292162</td>\n",
       "      <td>88.911688</td>\n",
       "      <td>244.983774</td>\n",
       "      <td>0.728626</td>\n",
       "      <td>0.000000</td>\n",
       "      <td>6.470730</td>\n",
       "      <td>True</td>\n",
       "    </tr>\n",
       "  </tbody>\n",
       "</table>\n",
       "</div>"
      ],
      "text/plain": [
       "     Distance  Distance traveled        Time  Avg Speed  Battery Used  \\\n",
       "0  134.063418         138.036580  371.217591   0.684124      0.834939   \n",
       "1   64.381674          65.225397  158.566742   0.765357      0.076002   \n",
       "2   98.954535         105.941125  365.362667   0.815191      0.786068   \n",
       "3  129.402473         130.279221  244.967768   1.109709      0.871576   \n",
       "4   82.292162          88.911688  244.983774   0.728626      0.000000   \n",
       "\n",
       "   Height Difference  Completion  \n",
       "0           5.491311        True  \n",
       "1           3.887387        True  \n",
       "2           5.505601        True  \n",
       "3           6.375358        True  \n",
       "4           6.470730        True  "
      ]
     },
     "execution_count": 10,
     "metadata": {},
     "output_type": "execute_result"
    }
   ],
   "source": [
    "a_star = pd.read_csv(\"controllers/moose_astar_supervisor/logs/performance.csv\")\n",
    "a_star.head()"
   ]
  },
  {
   "cell_type": "code",
   "execution_count": 11,
   "id": "b8787bbb",
   "metadata": {},
   "outputs": [
    {
     "data": {
      "text/plain": [
       "Completion\n",
       "False    54\n",
       "True     46\n",
       "Name: count, dtype: int64"
      ]
     },
     "execution_count": 11,
     "metadata": {},
     "output_type": "execute_result"
    }
   ],
   "source": [
    "a_star[\"Completion\"].value_counts()"
   ]
  },
  {
   "cell_type": "code",
   "execution_count": 12,
   "id": "b19dba31",
   "metadata": {},
   "outputs": [
    {
     "name": "stdout",
     "output_type": "stream",
     "text": [
      "Taxa de sucesso: 46.00%\n"
     ]
    }
   ],
   "source": [
    "success_rate = a_star[\"Completion\"].mean()\n",
    "print(f\"Taxa de sucesso: {success_rate:.2%}\")"
   ]
  },
  {
   "cell_type": "code",
   "execution_count": 13,
   "id": "65fd366b",
   "metadata": {},
   "outputs": [
    {
     "name": "stdout",
     "output_type": "stream",
     "text": [
      "Tempo médio: 117.41 segundos\n"
     ]
    }
   ],
   "source": [
    "avg_time = greedy[\"Time\"].mean()\n",
    "print(f\"Tempo médio: {avg_time:.2f} segundos\")"
   ]
  },
  {
   "cell_type": "code",
   "execution_count": 14,
   "id": "066b1f5d",
   "metadata": {},
   "outputs": [
    {
     "name": "stdout",
     "output_type": "stream",
     "text": [
      "Desvio médio (Distância percorrida - planejada):\n",
      "count    100.000000\n",
      "mean     -40.084466\n",
      "std       54.724086\n",
      "min     -183.114938\n",
      "25%      -85.057155\n",
      "50%      -13.513878\n",
      "75%        3.583287\n",
      "max       16.679392\n",
      "Name: Desvio, dtype: float64\n"
     ]
    }
   ],
   "source": [
    "a_star[\"Desvio\"] = a_star[\"Distance traveled\"] - a_star[\"Distance\"]\n",
    "print(\"Desvio médio (Distância percorrida - planejada):\")\n",
    "print(a_star[\"Desvio\"].describe())"
   ]
  },
  {
   "cell_type": "code",
   "execution_count": 15,
   "id": "a4a89e4e",
   "metadata": {},
   "outputs": [
    {
     "name": "stdout",
     "output_type": "stream",
     "text": [
      "Velocidade média: 0.63 m/s\n"
     ]
    }
   ],
   "source": [
    "avg_speed = a_star[\"Avg Speed\"].mean()\n",
    "print(f\"Velocidade média: {avg_speed:.2f} m/s\")"
   ]
  },
  {
   "cell_type": "code",
   "execution_count": 16,
   "id": "cbb87055",
   "metadata": {},
   "outputs": [
    {
     "name": "stdout",
     "output_type": "stream",
     "text": [
      "Comparação entre Resultados:\n",
      "                  Time             Distance traveled            Avg Speed  \\\n",
      "                  mean         std              mean        std      mean   \n",
      "Completion                                                                  \n",
      "False       150.120974  183.903201         24.704365  39.372379  0.625599   \n",
      "True        315.102704  240.200613         95.138724  47.874324  0.640872   \n",
      "\n",
      "                     Height Difference            \n",
      "                 std              mean       std  \n",
      "Completion                                        \n",
      "False       0.236304          1.402802  1.998861  \n",
      "True        0.213160          4.660505  2.663829  \n"
     ]
    }
   ],
   "source": [
    "grouped = a_star.groupby(\"Completion\").agg({\n",
    "    \"Time\": [\"mean\", \"std\"],\n",
    "    \"Distance traveled\": [\"mean\", \"std\"],\n",
    "    \"Avg Speed\": [\"mean\", \"std\"],\n",
    "    \"Height Difference\": [\"mean\", \"std\"]\n",
    "})\n",
    "\n",
    "print(\"Comparação entre Resultados:\")\n",
    "print(grouped)\n"
   ]
  },
  {
   "cell_type": "code",
   "execution_count": 17,
   "id": "64112a65",
   "metadata": {},
   "outputs": [
    {
     "name": "stdout",
     "output_type": "stream",
     "text": [
      "Eficiência média (sucesso): 94.66%\n"
     ]
    },
    {
     "name": "stderr",
     "output_type": "stream",
     "text": [
      "C:\\Users\\isabe\\AppData\\Local\\Temp\\ipykernel_22224\\1887011073.py:5: SettingWithCopyWarning: \n",
      "A value is trying to be set on a copy of a slice from a DataFrame.\n",
      "Try using .loc[row_indexer,col_indexer] = value instead\n",
      "\n",
      "See the caveats in the documentation: https://pandas.pydata.org/pandas-docs/stable/user_guide/indexing.html#returning-a-view-versus-a-copy\n",
      "  sucessos['Efficiency (%)'] = (sucessos['Distance'] / sucessos['Distance traveled']) * 100\n"
     ]
    }
   ],
   "source": [
    "# Filtra só as linhas de sucesso\n",
    "sucessos = a_star[a_star['Completion'] == True]\n",
    "\n",
    "# Calcula a eficiência média\n",
    "sucessos['Efficiency (%)'] = (sucessos['Distance'] / sucessos['Distance traveled']) * 100\n",
    "eficiencia_media_sucesso = sucessos['Efficiency (%)'].mean()\n",
    "\n",
    "print(f\"Eficiência média (sucesso): {eficiencia_media_sucesso:.2f}%\")\n"
   ]
  }
 ],
 "metadata": {
  "kernelspec": {
   "display_name": "apache_pythorch",
   "language": "python",
   "name": "python3"
  },
  "language_info": {
   "codemirror_mode": {
    "name": "ipython",
    "version": 3
   },
   "file_extension": ".py",
   "mimetype": "text/x-python",
   "name": "python",
   "nbconvert_exporter": "python",
   "pygments_lexer": "ipython3",
   "version": "3.11.11"
  }
 },
 "nbformat": 4,
 "nbformat_minor": 5
}
